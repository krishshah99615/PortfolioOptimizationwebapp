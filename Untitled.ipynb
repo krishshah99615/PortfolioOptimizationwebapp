{
 "cells": [
  {
   "cell_type": "code",
   "execution_count": 2,
   "metadata": {},
   "outputs": [],
   "source": [
    "from flask import Flask, request, render_template\n",
    "import numpy as np\n",
    "import datetime\n",
    "from final_port_opt import opt_data\n",
    "from dateutil.relativedelta import relativedelta\n",
    "from pred import get_test_graph, pred_next\n",
    "import glob\n",
    "import tensorflow as tf"
   ]
  },
  {
   "cell_type": "code",
   "execution_count": 3,
   "metadata": {},
   "outputs": [
    {
     "name": "stdout",
     "output_type": "stream",
     "text": [
      "Loading models...\n",
      "Loading..model_GOOGL.h5\n",
      "Loading..model_AMZN.h5\n"
     ]
    }
   ],
   "source": [
    "ticker=['GOOGL','AMZN']\n",
    "\n",
    "print(\"Loading models...\")\n",
    "models = {}\n",
    "for t in ticker:\n",
    "    p = glob.glob(f'*{t}.h5')[0]\n",
    "    print(f\"Loading..{p}\")\n",
    "    models[t] = tf.keras.models.load_model(p)\n",
    "\n",
    "o = []\n",
    "for tic in ticker:\n",
    "\n",
    "    predicted_stock_price, real_val, sc = get_test_graph(\n",
    "        tic, models[tic])\n",
    "    o.append(pred_next(models[tic], sc))\n"
   ]
  },
  {
   "cell_type": "code",
   "execution_count": 4,
   "metadata": {},
   "outputs": [
    {
     "data": {
      "text/html": [
       "<div>\n",
       "<style scoped>\n",
       "    .dataframe tbody tr th:only-of-type {\n",
       "        vertical-align: middle;\n",
       "    }\n",
       "\n",
       "    .dataframe tbody tr th {\n",
       "        vertical-align: top;\n",
       "    }\n",
       "\n",
       "    .dataframe thead th {\n",
       "        text-align: right;\n",
       "    }\n",
       "</style>\n",
       "<table border=\"1\" class=\"dataframe\">\n",
       "  <thead>\n",
       "    <tr style=\"text-align: right;\">\n",
       "      <th></th>\n",
       "      <th>0</th>\n",
       "    </tr>\n",
       "  </thead>\n",
       "  <tbody>\n",
       "    <tr>\n",
       "      <th>2020-06-17</th>\n",
       "      <td>1482.047852</td>\n",
       "    </tr>\n",
       "    <tr>\n",
       "      <th>2020-06-18</th>\n",
       "      <td>1482.707886</td>\n",
       "    </tr>\n",
       "    <tr>\n",
       "      <th>2020-06-19</th>\n",
       "      <td>1483.625977</td>\n",
       "    </tr>\n",
       "    <tr>\n",
       "      <th>2020-06-20</th>\n",
       "      <td>1485.018799</td>\n",
       "    </tr>\n",
       "    <tr>\n",
       "      <th>2020-06-21</th>\n",
       "      <td>1487.001343</td>\n",
       "    </tr>\n",
       "    <tr>\n",
       "      <th>2020-06-22</th>\n",
       "      <td>1489.593384</td>\n",
       "    </tr>\n",
       "  </tbody>\n",
       "</table>\n",
       "</div>"
      ],
      "text/plain": [
       "                      0\n",
       "2020-06-17  1482.047852\n",
       "2020-06-18  1482.707886\n",
       "2020-06-19  1483.625977\n",
       "2020-06-20  1485.018799\n",
       "2020-06-21  1487.001343\n",
       "2020-06-22  1489.593384"
      ]
     },
     "execution_count": 4,
     "metadata": {},
     "output_type": "execute_result"
    }
   ],
   "source": [
    "o[1]"
   ]
  },
  {
   "cell_type": "code",
   "execution_count": 43,
   "metadata": {},
   "outputs": [],
   "source": [
    "pred_list=[]\n",
    "for pred_df in o:\n",
    "    a=pred_df.values.reshape((-1))\n",
    "    i= list(pred_df.index)\n",
    "    i=[x.strftime(\"%Y-%m-%d\") for x in i]\n",
    "    pred_list.append([d for d in zip(i,a)])\n",
    "    "
   ]
  },
  {
   "cell_type": "code",
   "execution_count": 44,
   "metadata": {},
   "outputs": [
    {
     "data": {
      "text/plain": [
       "[[('2020-06-17', 1389.5449),\n",
       "  ('2020-06-18', 1389.7056),\n",
       "  ('2020-06-19', 1389.4835),\n",
       "  ('2020-06-20', 1388.8416),\n",
       "  ('2020-06-21', 1387.7874),\n",
       "  ('2020-06-22', 1386.3644)],\n",
       " [('2020-06-17', 1482.0479),\n",
       "  ('2020-06-18', 1482.7079),\n",
       "  ('2020-06-19', 1483.626),\n",
       "  ('2020-06-20', 1485.0188),\n",
       "  ('2020-06-21', 1487.0013),\n",
       "  ('2020-06-22', 1489.5934)]]"
      ]
     },
     "execution_count": 44,
     "metadata": {},
     "output_type": "execute_result"
    }
   ],
   "source": [
    "pred_list"
   ]
  },
  {
   "cell_type": "code",
   "execution_count": 35,
   "metadata": {},
   "outputs": [
    {
     "data": {
      "text/plain": [
       "['2020-06-17',\n",
       " '2020-06-18',\n",
       " '2020-06-19',\n",
       " '2020-06-20',\n",
       " '2020-06-21',\n",
       " '2020-06-22']"
      ]
     },
     "execution_count": 35,
     "metadata": {},
     "output_type": "execute_result"
    }
   ],
   "source": [
    "i"
   ]
  },
  {
   "cell_type": "code",
   "execution_count": 41,
   "metadata": {},
   "outputs": [
    {
     "name": "stdout",
     "output_type": "stream",
     "text": [
      "('2020-06-17', 1482.0479)\n",
      "('2020-06-18', 1482.7079)\n",
      "('2020-06-19', 1483.626)\n",
      "('2020-06-20', 1485.0188)\n",
      "('2020-06-21', 1487.0013)\n",
      "('2020-06-22', 1489.5934)\n"
     ]
    }
   ],
   "source": [
    "for d in zip(i,a):\n",
    "    print(d)"
   ]
  },
  {
   "cell_type": "code",
   "execution_count": 42,
   "metadata": {},
   "outputs": [
    {
     "data": {
      "text/plain": [
       "<zip at 0x2a522f48fc8>"
      ]
     },
     "execution_count": 42,
     "metadata": {},
     "output_type": "execute_result"
    }
   ],
   "source": [
    "zip(i,a)"
   ]
  },
  {
   "cell_type": "code",
   "execution_count": null,
   "metadata": {},
   "outputs": [],
   "source": []
  }
 ],
 "metadata": {
  "kernelspec": {
   "display_name": "Python 3",
   "language": "python",
   "name": "python3"
  }
 },
 "nbformat": 4,
 "nbformat_minor": 4
}
